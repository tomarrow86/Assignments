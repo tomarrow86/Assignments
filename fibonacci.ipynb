{
  "nbformat": 4,
  "nbformat_minor": 0,
  "metadata": {
    "colab": {
      "name": "fibonacci.ipynb",
      "provenance": [],
      "authorship_tag": "ABX9TyNQ4JAvd+0Hpv3sN+l87pJQ",
      "include_colab_link": true
    },
    "kernelspec": {
      "name": "python3",
      "display_name": "Python 3"
    },
    "language_info": {
      "name": "python"
    }
  },
  "cells": [
    {
      "cell_type": "markdown",
      "metadata": {
        "id": "view-in-github",
        "colab_type": "text"
      },
      "source": [
        "<a href=\"https://colab.research.google.com/github/tomway86/Assignments/blob/main/fibonacci.ipynb\" target=\"_parent\"><img src=\"https://colab.research.google.com/assets/colab-badge.svg\" alt=\"Open In Colab\"/></a>"
      ]
    },
    {
      "cell_type": "code",
      "metadata": {
        "id": "8ywMBkMdS2Qs"
      },
      "source": [
        "def fibonacci(number):\n",
        "    num1=0\n",
        "    num2=1\n",
        "    print(num2)\n",
        "    i=0\n",
        "    while(i<number-2):\n",
        "        num3=num1+num2\n",
        "        print(num3)\n",
        "        num1=num2\n",
        "        num2=num3\n",
        "        i+=1\n",
        "number=int(input(\"Enter a number: \"))\n",
        "fibonacci(number)"
      ],
      "execution_count": null,
      "outputs": []
    }
  ]
}