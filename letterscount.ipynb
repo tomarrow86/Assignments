{
  "nbformat": 4,
  "nbformat_minor": 0,
  "metadata": {
    "colab": {
      "name": "letterscount.ipynb",
      "provenance": [],
      "authorship_tag": "ABX9TyPMdPO/HdVF3te3t1Pel8JR",
      "include_colab_link": true
    },
    "kernelspec": {
      "name": "python3",
      "display_name": "Python 3"
    },
    "language_info": {
      "name": "python"
    }
  },
  "cells": [
    {
      "cell_type": "markdown",
      "metadata": {
        "id": "view-in-github",
        "colab_type": "text"
      },
      "source": [
        "<a href=\"https://colab.research.google.com/github/tomway86/Assignments/blob/main/letterscount.ipynb\" target=\"_parent\"><img src=\"https://colab.research.google.com/assets/colab-badge.svg\" alt=\"Open In Colab\"/></a>"
      ]
    },
    {
      "cell_type": "code",
      "execution_count": null,
      "metadata": {
        "id": "_7wz2YqZi6fw"
      },
      "outputs": [],
      "source": [
        "def char_count(string):\n",
        "  freq = {}\n",
        "  for char in set(string):\n",
        "    freq[char] = string.count(char)\n",
        "  return freq\n",
        "\n",
        "if __name__ == \"__main__\":\n",
        "  s = input(str(\"Please enter a sentence: \"))\n",
        "  print(char_count(s))"
      ]
    }
  ]
}