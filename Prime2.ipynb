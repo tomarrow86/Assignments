{
  "nbformat": 4,
  "nbformat_minor": 0,
  "metadata": {
    "colab": {
      "name": "Prime2.ipynb",
      "provenance": [],
      "authorship_tag": "ABX9TyM+5oG0To3hqg4i7VWDnmIp",
      "include_colab_link": true
    },
    "kernelspec": {
      "name": "python3",
      "display_name": "Python 3"
    },
    "language_info": {
      "name": "python"
    }
  },
  "cells": [
    {
      "cell_type": "markdown",
      "metadata": {
        "id": "view-in-github",
        "colab_type": "text"
      },
      "source": [
        "<a href=\"https://colab.research.google.com/github/tomway86/Assignments/blob/main/Prime2.ipynb\" target=\"_parent\"><img src=\"https://colab.research.google.com/assets/colab-badge.svg\" alt=\"Open In Colab\"/></a>"
      ]
    },
    {
      "cell_type": "code",
      "metadata": {
        "id": "AxT4V_Y-VUjf"
      },
      "source": [
        "n = int(input(\"Enter a number: \"))\n",
        "counter = 0\n",
        "\n",
        "for i in range(1, n^+1):\n",
        "  if n % i == 0:\n",
        "    counter += 1\n",
        "\n",
        "if (n == 0) or (n == 1) or (counter >= 3):\n",
        "  print(n,  \" is not a Prime Number\")\n",
        "\n",
        "else:\n",
        "  print(n, \" is a Prime Number\")"
      ],
      "execution_count": null,
      "outputs": []
    },
    {
      "cell_type": "code",
      "metadata": {
        "id": "20U0RXzwWAEN"
      },
      "source": [
        ""
      ],
      "execution_count": null,
      "outputs": []
    }
  ]
}