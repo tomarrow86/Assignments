{
  "nbformat": 4,
  "nbformat_minor": 0,
  "metadata": {
    "colab": {
      "name": "Prime_Number.ipynb",
      "provenance": [],
      "authorship_tag": "ABX9TyMAvuzm0SZRk6YNXjRC4oX7",
      "include_colab_link": true
    },
    "kernelspec": {
      "name": "python3",
      "display_name": "Python 3"
    },
    "language_info": {
      "name": "python"
    }
  },
  "cells": [
    {
      "cell_type": "markdown",
      "metadata": {
        "id": "view-in-github",
        "colab_type": "text"
      },
      "source": [
        "<a href=\"https://colab.research.google.com/github/tomway86/Assignments/blob/main/Prime_Number.ipynb\" target=\"_parent\"><img src=\"https://colab.research.google.com/assets/colab-badge.svg\" alt=\"Open In Colab\"/></a>"
      ]
    },
    {
      "cell_type": "code",
      "metadata": {
        "id": "Rd6Htz5COjzh"
      },
      "source": [
        "prime_number = []\n",
        "n = int(input(\"Please enter a limit number: \"))\n",
        "\n",
        "for x in range(2, n):\n",
        "    for i in range(2, x):\n",
        "        if x % i == 0:\n",
        "            break\n",
        "    else:\n",
        "        prime_number.append(x)\n",
        "print(prime_number)"
      ],
      "execution_count": null,
      "outputs": []
    }
  ]
}