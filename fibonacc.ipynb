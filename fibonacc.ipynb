{
  "nbformat": 4,
  "nbformat_minor": 0,
  "metadata": {
    "colab": {
      "name": "fibonacc.ipynb",
      "provenance": [],
      "collapsed_sections": [],
      "authorship_tag": "ABX9TyPlf+Djvt1VQcIMiNIy8N8U",
      "include_colab_link": true
    },
    "kernelspec": {
      "name": "python3",
      "display_name": "Python 3"
    },
    "language_info": {
      "name": "python"
    }
  },
  "cells": [
    {
      "cell_type": "markdown",
      "metadata": {
        "id": "view-in-github",
        "colab_type": "text"
      },
      "source": [
        "<a href=\"https://colab.research.google.com/github/tomway86/Assignments/blob/main/fibonacc.ipynb\" target=\"_parent\"><img src=\"https://colab.research.google.com/assets/colab-badge.svg\" alt=\"Open In Colab\"/></a>"
      ]
    },
    {
      "cell_type": "code",
      "metadata": {
        "id": "8t0_PthIJHbj"
      },
      "source": [
        "num1 = 1\n",
        "num2 = 1\n",
        "\n",
        "fibonacci = []\n",
        "\n",
        "while num1 <= 55:\n",
        "  fibonacci.append(num1)\n",
        "  num1, num2 = num2, num1 + num2\n",
        "\n",
        "print(fibonacci)"
      ],
      "execution_count": null,
      "outputs": []
    }
  ]
}