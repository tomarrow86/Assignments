{
  "nbformat": 4,
  "nbformat_minor": 0,
  "metadata": {
    "colab": {
      "name": "Untitled15.ipynb",
      "provenance": [],
      "collapsed_sections": [],
      "authorship_tag": "ABX9TyMxdvUeyOYZ3Xq5y+vaRrJa",
      "include_colab_link": true
    },
    "kernelspec": {
      "name": "python3",
      "display_name": "Python 3"
    },
    "language_info": {
      "name": "python"
    }
  },
  "cells": [
    {
      "cell_type": "markdown",
      "metadata": {
        "id": "view-in-github",
        "colab_type": "text"
      },
      "source": [
        "<a href=\"https://colab.research.google.com/github/tomway86/Assignments/blob/main/Armstrong_Numbers2.ipynb\" target=\"_parent\"><img src=\"https://colab.research.google.com/assets/colab-badge.svg\" alt=\"Open In Colab\"/></a>"
      ]
    },
    {
      "cell_type": "code",
      "metadata": {
        "id": "ZxLYjDti0izo"
      },
      "source": [
        "num = input(\"Enter a number: \")\n",
        "num.isnumeric()\n",
        "sum = 0\n",
        "i = 0\n",
        "\n",
        "while not num.isnumeric():\n",
        "  print(\"yanlış oldu\")\n",
        "  num = input(\"Enter a number: \")\n",
        "\n",
        "\n",
        "while i < len(num):\n",
        "  sum += int(num[i])**len(num)\n",
        "  i += 1\n",
        "if sum == int(num):\n",
        "  print(f\"{num} is an Armstrong number.\")\n",
        "else:\n",
        "  print(f\"{num} is not an Armstrong number.\")"
      ],
      "execution_count": null,
      "outputs": []
    },
    {
      "cell_type": "code",
      "metadata": {
        "id": "ryKvE1d8iYn1"
      },
      "source": [
        ""
      ],
      "execution_count": null,
      "outputs": []
    }
  ]
}