{
  "nbformat": 4,
  "nbformat_minor": 0,
  "metadata": {
    "colab": {
      "name": "Fizz&Buzz.ipynb",
      "provenance": [],
      "collapsed_sections": [],
      "authorship_tag": "ABX9TyMosTtNt0x4V86xpsrwMEmL",
      "include_colab_link": true
    },
    "kernelspec": {
      "name": "python3",
      "display_name": "Python 3"
    },
    "language_info": {
      "name": "python"
    }
  },
  "cells": [
    {
      "cell_type": "markdown",
      "metadata": {
        "id": "view-in-github",
        "colab_type": "text"
      },
      "source": [
        "<a href=\"https://colab.research.google.com/github/tomway86/Assignments/blob/main/Fizz%26Buzz.ipynb\" target=\"_parent\"><img src=\"https://colab.research.google.com/assets/colab-badge.svg\" alt=\"Open In Colab\"/></a>"
      ]
    },
    {
      "cell_type": "code",
      "metadata": {
        "id": "Yi4tLHgVpaWo"
      },
      "source": [
        "for x in range(1, 101):\n",
        "  if x % 3 == 0 and x % 5 == 0:\n",
        "    print(\"FizzBuzz\", end='\\n')\n",
        "  elif x % 3 == 0:\n",
        "    print(\"Fizz\", end='\\n')\n",
        "  elif x % 5 == 0:\n",
        "    print(\"Buzz\", end='\\n')\n",
        "  else:\n",
        "    print(x, end='\\n')"
      ],
      "execution_count": null,
      "outputs": []
    }
  ]
}